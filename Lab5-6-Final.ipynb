{
 "cells": [
  {
   "cell_type": "code",
   "execution_count": 115,
   "metadata": {},
   "outputs": [],
   "source": [
    "#3 Compute differing data distributions into visuals\n",
    "import pandas as pd\n",
    "import numpy as np\n",
    "\n",
    "df = pd.read_csv(\"survey.csv\")"
   ]
  },
  {
   "cell_type": "code",
   "execution_count": 116,
   "metadata": {},
   "outputs": [
    {
     "name": "stdout",
     "output_type": "stream",
     "text": [
      "school_year    Graduate Student  Junior  Senior  Sophomore\n",
      "participation                                             \n",
      "1                             0      21      12         11\n",
      "2                             0      15       4          9\n",
      "3                             0      27      14          8\n",
      "4                             2      11       8          8\n",
      "5                             2      16      10          8\n"
     ]
    },
    {
     "data": {
      "text/plain": [
       "<AxesSubplot:xlabel='participation'>"
      ]
     },
     "execution_count": 116,
     "metadata": {},
     "output_type": "execute_result"
    },
    {
     "data": {
      "image/png": "[encoded data removed]",
      "text/plain": [
       "<Figure size 432x288 with 1 Axes>"
      ]
     },
     "metadata": {
      "needs_background": "light"
     },
     "output_type": "display_data"
    }
   ],
   "source": [
    "\n",
    "df1 = df\n",
    "df1['school_year']= df.filter(items = ['What school year are you in?'])\n",
    "df1['participation']= df.filter(items = ['What is your opinion on participation credit in your classes?'])\n",
    "df1 = df.filter(items = ['school_year', 'participation'])\n",
    "\n",
    "schoolYearVsParticipation = pd.crosstab(df1.participation, df1.school_year)\n",
    "df1['school_year'].replace(\"Sophomore\", 0, inplace = True)\n",
    "df1['school_year'].replace(\"Junior\", 1, inplace = True)\n",
    "df1['school_year'].replace(\"Senior\", 2, inplace = True)\n",
    "df1['school_year'].replace(\"Graduate Student\", 3, inplace = True)\n",
    "\n",
    "print(schoolYearVsParticipation)\n",
    "# schoolYearVsParticipation.plot()\n",
    "schoolYearVsParticipation.plot.bar(stacked=True)\n"
   ]
  },
  {
   "cell_type": "code",
   "execution_count": 117,
   "metadata": {},
   "outputs": [
    {
     "data": {
      "text/plain": [
       "<AxesSubplot:xlabel='src', ylabel='gpa'>"
      ]
     },
     "execution_count": 117,
     "metadata": {},
     "output_type": "execute_result"
    },
    {
     "data": {
      "image/png": "[encoded data removed]",
      "text/plain": [
       "<Figure size 432x288 with 2 Axes>"
      ]
     },
     "metadata": {
      "needs_background": "light"
     },
     "output_type": "display_data"
    }
   ],
   "source": [
    "df2 = df\n",
    "\n",
    "df2['src']= df2.filter(items = ['How many times a week do you visit the Student Recreation Center?'])\n",
    "df2['gender']= df2.filter(items = ['What is your gender?'])\n",
    "df2['gpa'] = df2.filter(items=['What is your current GPA?'])\n",
    "df2['gender'].replace(\"Male\", 0, inplace = True)\n",
    "df2['gender'].replace(\"Female\", 1, inplace = True)\n",
    "df2 = df2.filter(items = ['src', 'gender', 'gpa'])\n",
    "\n",
    "\n",
    "\n",
    "# df2\n",
    "scatterPlot = df2.plot.scatter(x = 'src', y = 'gpa', c = 'gender', colormap = 'Spectral')\n",
    "scatterPlot"
   ]
  },
  {
   "cell_type": "code",
   "execution_count": 118,
   "metadata": {},
   "outputs": [
    {
     "name": "stdout",
     "output_type": "stream",
     "text": [
      "gender  Female  Male\n",
      "mental              \n",
      "1            6     8\n",
      "2            6    17\n",
      "3           10    81\n",
      "4            5    36\n",
      "5            1    16\n"
     ]
    }
   ],
   "source": [
    "df2 = df\n",
    "df2['mental']= df2.filter(items = ['Do you think UCR has dedicated enough resources to student’s mental health?'])\n",
    "df2['gender']= df2.filter(items = ['What is your gender?'])\n",
    "df2 = df2.filter(items = ['mental', 'gender'])\n",
    "SrcVsGender = pd.crosstab(df2.mental, df2.gender)\n",
    "print(SrcVsGender)"
   ]
  }
 ],
 "metadata": {
  "interpreter": {
   "hash": "92bbee84d2eb70c823e0fb3b88d7ea9fddb3bdebbb1272eedfc3f77f67aa76b8"
  },
  "kernelspec": {
   "display_name": "Python 3.8.8 64-bit (conda)",
   "name": "python3"
  },
  "language_info": {
   "codemirror_mode": {
    "name": "ipython",
    "version": 3
   },
   "file_extension": ".py",
   "mimetype": "text/x-python",
   "name": "python",
   "nbconvert_exporter": "python",
   "pygments_lexer": "ipython3",
   "version": "3.8.8"
  },
  "orig_nbformat": 4
 },
 "nbformat": 4,
 "nbformat_minor": 2
}
